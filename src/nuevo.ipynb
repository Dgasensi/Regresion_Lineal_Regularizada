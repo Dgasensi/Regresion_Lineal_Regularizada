{
 "cells": [
  {
   "cell_type": "code",
   "execution_count": 3,
   "metadata": {},
   "outputs": [],
   "source": [
    "import pandas as pd\n",
    "import matplotlib.pyplot as plt\n",
    "import numpy as np\n",
    "from sklearn.impute import KNNImputer\n",
    "import eda_functions\n",
    "from sklearn.model_selection import train_test_split\n",
    "import xgboost as xgb\n",
    "from sklearn.preprocessing import MinMaxScaler\n",
    "\n",
    "from sklearn.model_selection import RandomizedSearchCV\n",
    "\n",
    "from sklearn.metrics import *\n",
    "from sklearn.ensemble import BaggingRegressor\n",
    "from sklearn.linear_model import LinearRegression\n",
    "from sklearn.pipeline import Pipeline\n",
    "from sklearn.preprocessing import FunctionTransformer\n",
    "import joblib\n",
    "from sklearn.linear_model import LinearRegression, Lasso, Ridge\n",
    "import warnings\n",
    "from sklearn.exceptions import ConvergenceWarning\n",
    "warnings.filterwarnings(\"ignore\", category=ConvergenceWarning)"
   ]
  },
  {
   "cell_type": "code",
   "execution_count": null,
   "metadata": {},
   "outputs": [],
   "source": [
    "def regularization_graph( x_train_data, y_train_data,x_test_data, y_test_data, model, alphas=np.logspace(-6, 6, 500) ):\n",
    "    train_rsquared_list = []\n",
    "    test_rsquared_list = []\n",
    "    for alpha in alphas:\n",
    "        if model == 'Lasso':\n",
    "            lasso_ = Lasso(alpha=alpha).fit(x_train_data, y_train_data)\n",
    "\n",
    "        elif model == 'Ridge':\n",
    "            ridge_ = Ridge(alpha=alpha)\n",
    "\n",
    "        else:\n",
    "            raise ValueError(\"Model type not recognized. Use 'lasso' or 'ridge'.\")\n",
    "        \n",
    "        model.fit(x_train_data, y_train_data)\n",
    "        yhat_train = model.predict(x_train_data)\n",
    "        yhat_test = model.predict(x_test_data)\n",
    "        r2_train = r2_score(y_train_data, yhat_train)\n",
    "        r2_test = r2_score(y_test_data, yhat_test)\n",
    "\n",
    "        train_rsquared_list.append(r2_train)\n",
    "        test_rsquared_list.append(r2_test)\n",
    "\n",
    "        plt.figure(figsize=(10, 6))\n",
    "        plt.plot(alphas, train_rsquared_list, label='Train $R^2$')\n",
    "        plt.plot(alphas, test_rsquared_list, label='Test $R^2$')\n",
    "        plt.xscale('log')\n",
    "        plt.xlabel('Alpha')\n",
    "        plt.ylabel('$R^2$ Score')\n",
    "        plt.title(f'{model_type.capitalize()} Regularization Effect on $R^2$')\n",
    "        plt.legend()\n",
    "        plt.show()\n",
    "        \n",
    "\n",
    "    "
   ]
  }
 ],
 "metadata": {
  "kernelspec": {
   "display_name": "Python 3",
   "language": "python",
   "name": "python3"
  },
  "language_info": {
   "codemirror_mode": {
    "name": "ipython",
    "version": 3
   },
   "file_extension": ".py",
   "mimetype": "text/x-python",
   "name": "python",
   "nbconvert_exporter": "python",
   "pygments_lexer": "ipython3",
   "version": "3.10.12"
  }
 },
 "nbformat": 4,
 "nbformat_minor": 2
}
